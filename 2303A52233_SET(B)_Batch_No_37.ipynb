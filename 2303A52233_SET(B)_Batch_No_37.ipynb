{
  "nbformat": 4,
  "nbformat_minor": 0,
  "metadata": {
    "colab": {
      "provenance": [],
      "authorship_tag": "ABX9TyOe2OY+cewapWj/xi/FnVCl",
      "include_colab_link": true
    },
    "kernelspec": {
      "name": "python3",
      "display_name": "Python 3"
    },
    "language_info": {
      "name": "python"
    }
  },
  "cells": [
    {
      "cell_type": "markdown",
      "metadata": {
        "id": "view-in-github",
        "colab_type": "text"
      },
      "source": [
        "<a href=\"https://colab.research.google.com/github/Madhavi2233/Aiml-/blob/main/2303A52233_SET(B)_Batch_No_37.ipynb\" target=\"_parent\"><img src=\"https://colab.research.google.com/assets/colab-badge.svg\" alt=\"Open In Colab\"/></a>"
      ]
    },
    {
      "cell_type": "code",
      "execution_count": null,
      "metadata": {
        "colab": {
          "base_uri": "https://localhost:8080/"
        },
        "id": "RkXIQ4so2ZYg",
        "outputId": "d26a26e6-0056-4592-91ea-5d0c6d10c334"
      },
      "outputs": [
        {
          "output_type": "stream",
          "name": "stdout",
          "text": [
            "Requirement already satisfied: ucimlrepo in /usr/local/lib/python3.10/dist-packages (0.0.7)\n",
            "Requirement already satisfied: pandas>=1.0.0 in /usr/local/lib/python3.10/dist-packages (from ucimlrepo) (2.2.2)\n",
            "Requirement already satisfied: certifi>=2020.12.5 in /usr/local/lib/python3.10/dist-packages (from ucimlrepo) (2024.8.30)\n",
            "Requirement already satisfied: numpy>=1.22.4 in /usr/local/lib/python3.10/dist-packages (from pandas>=1.0.0->ucimlrepo) (1.26.4)\n",
            "Requirement already satisfied: python-dateutil>=2.8.2 in /usr/local/lib/python3.10/dist-packages (from pandas>=1.0.0->ucimlrepo) (2.8.2)\n",
            "Requirement already satisfied: pytz>=2020.1 in /usr/local/lib/python3.10/dist-packages (from pandas>=1.0.0->ucimlrepo) (2024.2)\n",
            "Requirement already satisfied: tzdata>=2022.7 in /usr/local/lib/python3.10/dist-packages (from pandas>=1.0.0->ucimlrepo) (2024.2)\n",
            "Requirement already satisfied: six>=1.5 in /usr/local/lib/python3.10/dist-packages (from python-dateutil>=2.8.2->pandas>=1.0.0->ucimlrepo) (1.16.0)\n"
          ]
        }
      ],
      "source": [
        "pip install ucimlrepo\n"
      ]
    },
    {
      "cell_type": "code",
      "source": [
        "from ucimlrepo import fetch_ucirepo\n",
        "\n",
        "# fetch dataset\n",
        "travel_reviews = fetch_ucirepo(id=484)\n",
        "\n",
        "# data (as pandas dataframes)\n",
        "X = travel_reviews.data.features\n",
        "y = travel_reviews.data.targets\n",
        "\n",
        "# metadata\n",
        "print(travel_reviews.metadata)\n",
        "\n",
        "# variable information\n",
        "print(travel_reviews.variables)\n"
      ],
      "metadata": {
        "colab": {
          "base_uri": "https://localhost:8080/"
        },
        "id": "LCztcL_A2ivK",
        "outputId": "0bd6a9ed-aa72-4825-cbec-035dc01bc7e9"
      },
      "execution_count": null,
      "outputs": [
        {
          "output_type": "stream",
          "name": "stdout",
          "text": [
            "{'uci_id': 484, 'name': 'Travel Reviews', 'repository_url': 'https://archive.ics.uci.edu/dataset/484/travel+reviews', 'data_url': 'https://archive.ics.uci.edu/static/public/484/data.csv', 'abstract': 'Reviews on destinations in 10 categories mentioned across East Asia. Each traveler rating is mapped as Excellent(4), Very Good(3), Average(2), Poor(1), and Terrible(0) and average rating is used.', 'area': 'Other', 'tasks': ['Classification', 'Clustering'], 'characteristics': ['Multivariate', 'Text'], 'num_instances': 980, 'num_features': 10, 'feature_types': ['Real'], 'demographics': [], 'target_col': None, 'index_col': ['User ID'], 'has_missing_values': 'no', 'missing_values_symbol': None, 'year_of_dataset_creation': 2018, 'last_updated': 'Fri Mar 15 2024', 'dataset_doi': '10.24432/C56K6W', 'creators': ['Shini Renjith'], 'intro_paper': {'ID': 427, 'type': 'NATIVE', 'title': 'Evaluation of Partitioning Clustering Algorithms for Processing Social Media Data in Tourism Domain', 'authors': 'Dr. Shini Renjith, A. Sreekumar, M. Jathavedan', 'venue': 'IEEE Recent Advances in Intelligent Computational Systems', 'year': 2018, 'journal': None, 'DOI': None, 'URL': 'https://www.semanticscholar.org/paper/Evaluation-of-Partitioning-Clustering-Algorithms-in-Renjith-Sreekumar/0c667df7f0adb8b15ae1c39e4f5cc2ebad0ce33f', 'sha': None, 'corpus': None, 'arxiv': None, 'mag': None, 'acl': None, 'pmid': None, 'pmcid': None}, 'additional_info': {'summary': 'This data set is populated by crawling TripAdvisor.com. Reviews on destinations in 10 categories mentioned across East Asia are considered. Each traveler rating is mapped as Excellent (4), Very Good (3), Average (2), Poor (1), and Terrible (0) and average rating is used against each category per user.', 'purpose': None, 'funded_by': None, 'instances_represent': None, 'recommended_data_splits': None, 'sensitive_data': None, 'preprocessing_description': None, 'variable_info': 'Attribute 1 : Unique user id\\r\\nAttribute 2 : Average user feedback on art galleries\\r\\nAttribute 3 : Average user feedback on dance clubs\\r\\nAttribute 4 : Average user feedback on juice bars\\r\\nAttribute 5 : Average user feedback on restaurants\\r\\nAttribute 6 : Average user feedback on museums\\r\\nAttribute 7 : Average user feedback on resorts\\r\\nAttribute 8 : Average user feedback on parks/picnic spots\\r\\nAttribute 9 : Average user feedback on beaches\\r\\nAttribute 10 : Average user feedback on theaters\\r\\nAttribute 11 : Average user feedback on religious institutions', 'citation': None}}\n",
            "           name     role         type demographic  \\\n",
            "0       User ID       ID  Categorical        None   \n",
            "1    Category 1  Feature   Continuous        None   \n",
            "2    Category 2  Feature   Continuous        None   \n",
            "3    Category 3  Feature   Continuous        None   \n",
            "4    Category 4  Feature   Continuous        None   \n",
            "5    Category 5  Feature   Continuous        None   \n",
            "6    Category 6  Feature   Continuous        None   \n",
            "7    Category 7  Feature   Continuous        None   \n",
            "8    Category 8  Feature   Continuous        None   \n",
            "9    Category 9  Feature   Continuous        None   \n",
            "10  Category 10  Feature   Continuous        None   \n",
            "\n",
            "                                        description units missing_values  \n",
            "0                                              None  None             no  \n",
            "1            Average user feedback on art galleries  None             no  \n",
            "2              Average user feedback on dance clubs  None             no  \n",
            "3               Average user feedback on juice bars  None             no  \n",
            "4              Average user feedback on restaurants  None             no  \n",
            "5                  Average user feedback on museums  None             no  \n",
            "6                  Average user feedback on resorts  None             no  \n",
            "7       Average user feedback on parks/picnic spots  None             no  \n",
            "8                  Average user feedback on beaches  None             no  \n",
            "9                 Average user feedback on theaters  None             no  \n",
            "10  Average user feedback on religious institutions  None             no  \n"
          ]
        }
      ]
    },
    {
      "cell_type": "code",
      "source": [
        "#1.Identify the top 5 travel destination of the travellers in east Asia."
      ],
      "metadata": {
        "id": "a3-QFqq47d-t"
      },
      "execution_count": null,
      "outputs": []
    },
    {
      "cell_type": "code",
      "source": [
        "import pandas as pd\n",
        "from google.colab import drive\n",
        "\n",
        "file_path = '/content/tripadvisor_review.csv'\n",
        "travel_reviews = pd.read_csv(file_path)\n",
        "\n",
        "destination_scores = travel_reviews.iloc[:, 1:].sum().sort_values(ascending=False)\n",
        "\n",
        "top_5_destinations = destination_scores.head(5)\n",
        "\n",
        "print(\"Top 5 Destinations based on aggregated scores:\")\n",
        "print(top_5_destinations)"
      ],
      "metadata": {
        "colab": {
          "base_uri": "https://localhost:8080/"
        },
        "id": "UyGdBYxF7AsZ",
        "outputId": "def4f6e2-d6d2-44ae-c498-a9794d817a4b"
      },
      "execution_count": null,
      "outputs": [
        {
          "output_type": "stream",
          "name": "stdout",
          "text": [
            "Top 5 Destinations based on aggregated scores:\n",
            "Category 7     3117.32\n",
            "Category 8     2778.36\n",
            "Category 10    2743.24\n",
            "Category 6     1806.04\n",
            "Category 9     1538.05\n",
            "dtype: float64\n"
          ]
        }
      ]
    },
    {
      "cell_type": "code",
      "source": [
        "#2.Name the category most liked by the travellers"
      ],
      "metadata": {
        "id": "a4RfmxLC7kZw"
      },
      "execution_count": null,
      "outputs": []
    },
    {
      "cell_type": "code",
      "source": [
        "category_scores = travel_reviews.iloc[:, 1:].sum()\n",
        "\n",
        "most_liked_category = category_scores.idxmax()\n",
        "most_liked_score = category_scores.max()\n",
        "\n",
        "print(f\"The most liked category is {most_liked_category} with a total score of {most_liked_score:.2f}\")"
      ],
      "metadata": {
        "colab": {
          "base_uri": "https://localhost:8080/"
        },
        "id": "s26Xtbhe7oMw",
        "outputId": "cc818362-03ad-48fb-caa1-2caa14a1e5ba"
      },
      "execution_count": null,
      "outputs": [
        {
          "output_type": "stream",
          "name": "stdout",
          "text": [
            "The most liked category is Category 7 with a total score of 3117.32\n"
          ]
        }
      ]
    },
    {
      "cell_type": "code",
      "source": [
        "#3.Identify the max and min counts of the most liked category of travellers."
      ],
      "metadata": {
        "id": "DKGeor1k705t"
      },
      "execution_count": null,
      "outputs": []
    },
    {
      "cell_type": "code",
      "source": [
        "most_liked_category = travel_reviews.iloc[:, 1:].sum().idxmax()\n",
        "\n",
        "most_liked_category_scores = travel_reviews[most_liked_category]\n",
        "\n",
        "max_score = most_liked_category_scores.max()\n",
        "min_score = most_liked_category_scores.min()\n",
        "\n",
        "print(f\"The most liked category is {most_liked_category}.\")\n",
        "print(f\"Maximum score: {max_score}\")\n",
        "print(f\"Minimum score: {min_score}\")"
      ],
      "metadata": {
        "colab": {
          "base_uri": "https://localhost:8080/"
        },
        "id": "2ta3EUTm76bY",
        "outputId": "2e781b06-2f1d-4986-895c-77d805a36300"
      },
      "execution_count": null,
      "outputs": [
        {
          "output_type": "stream",
          "name": "stdout",
          "text": [
            "The most liked category is Category 7.\n",
            "Maximum score: 3.21\n",
            "Minimum score: 3.16\n"
          ]
        }
      ]
    },
    {
      "cell_type": "code",
      "source": [
        "#5.Identify the travellers who liked the beaches and picnic spot the most"
      ],
      "metadata": {
        "id": "2HwxJDtP8N05"
      },
      "execution_count": null,
      "outputs": []
    },
    {
      "cell_type": "code",
      "source": [
        "religious_category = \"Category 7\"\n",
        "\n",
        "travel_reviews['Preferred Category'] = travel_reviews.iloc[:, 1:].idxmax(axis=1)\n",
        "count_religious_institutions = (travel_reviews['Preferred Category'] == religious_category).sum()\n",
        "\n",
        "print(f\"The number of travelers who liked religious institutions the most is: {count_religious_institutions}\")"
      ],
      "metadata": {
        "colab": {
          "base_uri": "https://localhost:8080/"
        },
        "id": "xI-7hQeW8RTZ",
        "outputId": "f229e2da-16b8-4f8b-8191-3e9efef18739"
      },
      "execution_count": null,
      "outputs": [
        {
          "output_type": "stream",
          "name": "stdout",
          "text": [
            "The number of travelers who liked religious institutions the most is: 790\n"
          ]
        }
      ]
    },
    {
      "cell_type": "code",
      "source": [
        "category_columns = travel_reviews.columns[1:]\n",
        "\n",
        "travel_reviews[category_columns] = travel_reviews[category_columns].apply(pd.to_numeric, errors='coerce')\n",
        "\n",
        "travel_reviews['Preferred Category'] = travel_reviews[category_columns].idxmax(axis=1)\n"
      ],
      "metadata": {
        "id": "Ecr36xoB8dU0"
      },
      "execution_count": null,
      "outputs": []
    },
    {
      "cell_type": "code",
      "source": [
        "# Assuming \"Category 3\" represents beaches and picnic spots\n",
        "beaches_category = \"Category 3\"\n",
        "\n",
        "# Add a column identifying each traveler's preferred category\n",
        "# Convert the relevant columns to numeric, errors='coerce' handles non-numeric values\n",
        "travel_reviews['Preferred Category'] = travel_reviews.iloc[:, 1:].apply(pd.to_numeric, errors='coerce').idxmax(axis=1)\n",
        "\n",
        "# Filter travelers who liked beaches and picnic spots the most\n",
        "beaches_lovers = travel_reviews[travel_reviews['Preferred Category'] == beaches_category]\n",
        "\n",
        "# Display the IDs of travelers who liked beaches and picnic spots the most\n",
        "print(\"Travelers who liked beaches and picnic spots the most:\")\n",
        "print(beaches_lovers['User ID'])"
      ],
      "metadata": {
        "id": "i9YDO6xs_PRC"
      },
      "execution_count": null,
      "outputs": []
    }
  ]
}