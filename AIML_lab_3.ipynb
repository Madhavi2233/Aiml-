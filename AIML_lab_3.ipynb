{
  "cells": [
    {
      "cell_type": "markdown",
      "metadata": {
        "id": "view-in-github",
        "colab_type": "text"
      },
      "source": [
        "<a href=\"https://colab.research.google.com/github/Madhavi2233/Aiml-/blob/main/AIML_lab_3.ipynb\" target=\"_parent\"><img src=\"https://colab.research.google.com/assets/colab-badge.svg\" alt=\"Open In Colab\"/></a>"
      ]
    },
    {
      "cell_type": "code",
      "source": [],
      "metadata": {
        "id": "5gDCHqjRh1u6"
      },
      "execution_count": null,
      "outputs": []
    },
    {
      "cell_type": "code",
      "source": [
        "graph={\n",
        "    'A':['D','C','G'],\n",
        "    'B':['A'],\n",
        "    'C':['A','D','F'],\n",
        "    'D':['A','C','E','H'],\n",
        "    'E':['D','H','F'],\n",
        "    'F':['C','E'],\n",
        "    'G':['A','D','H'],\n",
        "    'H':['D','E','G']\n",
        "}\n",
        "def dfs(graph,node,visited):\n",
        "  if node not in visited:\n",
        "    visited.append(node)\n",
        "    for k in graph[node]:\n",
        "      dfs(graph,k,visited)\n",
        "  return visited\n",
        "visited=dfs(graph,'B',[])\n",
        "print(visited)\n"
      ],
      "metadata": {
        "id": "3nSIW5Nuh19Y",
        "outputId": "7e3f8423-22d1-486d-e234-f2467d82672d",
        "colab": {
          "base_uri": "https://localhost:8080/"
        }
      },
      "execution_count": null,
      "outputs": [
        {
          "output_type": "stream",
          "name": "stdout",
          "text": [
            "['B', 'A', 'D', 'C', 'F', 'E', 'H', 'G']\n"
          ]
        }
      ]
    }
  ],
  "metadata": {
    "colab": {
      "toc_visible": true,
      "provenance": [],
      "include_colab_link": true
    },
    "kernelspec": {
      "display_name": "Python 3",
      "name": "python3"
    }
  },
  "nbformat": 4,
  "nbformat_minor": 0
}